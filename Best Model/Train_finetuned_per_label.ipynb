{
 "cells": [
  {
   "cell_type": "code",
   "execution_count": 4,
   "id": "2a9e73f1-03b8-453a-ac2a-c6fd0b560cc7",
   "metadata": {},
   "outputs": [
    {
     "name": "stdout",
     "output_type": "stream",
     "text": [
      "0\n"
     ]
    }
   ],
   "source": [
    "import os;\n",
    "os.environ['CUDA_VISIBLE_DEVICES']=\"0\"\n",
    "import numpy as np\n",
    "print(os.environ['CUDA_VISIBLE_DEVICES'])"
   ]
  },
  {
   "cell_type": "markdown",
   "id": "03d6c49d-c881-4e8d-9f0b-ad3a341bad4e",
   "metadata": {},
   "source": [
    "# Change these variables to suit your case "
   ]
  },
  {
   "cell_type": "code",
   "execution_count": 5,
   "id": "ff654471-2dff-43ff-aa47-7dbf6064e141",
   "metadata": {},
   "outputs": [],
   "source": [
    "# Choose label to train model ['MI', 'NORM', 'CD', 'STTC', 'HYP']\n",
    "label = 'NORM'\n",
    "\n",
    "# Define batch size\n",
    "batch_size = 16*1024\n",
    "\n",
    "# Define variables for early stopping\n",
    "best_epoch = 0\n",
    "patience = 10  # Number of epochs to wait for improvement\n",
    "patience_counter = patience\n",
    "MAX_EPOCHS = 50  # Maximum number of epochs\n",
    "best_f1 = 0  # Early stopping metric"
   ]
  },
  {
   "cell_type": "code",
   "execution_count": 6,
   "id": "00befd14-5f84-482f-ae54-72dee43eb3f8",
   "metadata": {},
   "outputs": [],
   "source": [
    "import pandas as pd\n",
    "from sklearn.model_selection import train_test_split\n",
    "import numpy as np\n",
    "from imblearn.over_sampling import SMOTE\n",
    "from collections import Counter\n",
    "\n",
    "# Load train data\n",
    "Dataset = pd.read_csv('PTB_XL_Dataset.csv')  \n",
    "\n",
    "# Split into features and labels\n",
    "X_train = Dataset.iloc[:, :187]  \n",
    "y_train = Dataset.loc[:, label]  \n",
    "\n",
    "# Split the data into train and test sets, maintaining the same label distribution\n",
    "X_train, X_test, y_train, y_test = train_test_split(X_train, y_train, test_size=0.2, stratify=y_train, random_state=50)\n",
    "\n",
    "# Split the data into train and validation sets, maintaining the same label distribution\n",
    "X_train, X_val, y_train, y_val = train_test_split(X_train, y_train, test_size=0.2, stratify=y_train, random_state=50)\n",
    "\n",
    "# Change Data to numpy array\n",
    "X_train = np.array(X_train)\n",
    "X_val = np.array(X_val)\n",
    "X_test = np.array(X_test)\n",
    "y_train = np.array(y_train)\n",
    "y_val = np.array(y_val)\n",
    "y_test = np.array(y_test)\n",
    "\n",
    "# Oversampling\n",
    "smote = SMOTE(random_state=42)\n",
    "X_train_resampled, y_train_resampled = smote.fit_resample(X_train, y_train)\n",
    "\n",
    "# Reshape data for tensors\n",
    "X_train_reshaped = X_train_resampled.reshape(-1, 1, 187)\n",
    "X_val_reshaped = X_val.reshape(-1, 1, 187)\n",
    "X_test_reshaped = X_test.reshape(-1, 1, 187)\n",
    "y_train_reshaped = y_train_resampled.reshape(-1, 1, 1)\n",
    "y_val_reshaped = y_val.reshape(-1, 1, 1)\n",
    "y_test_reshaped = y_test.reshape(-1, 1, 1)"
   ]
  },
  {
   "cell_type": "code",
   "execution_count": 7,
   "id": "0004179d-18af-4b86-af96-892f6967e192",
   "metadata": {},
   "outputs": [
    {
     "name": "stdout",
     "output_type": "stream",
     "text": [
      "ConvResNet(\n",
      "  (conv1): Conv1d(1, 32, kernel_size=(5,), stride=(1,), padding=same)\n",
      "  (activation): ReLU()\n",
      "  (residual_blocks): ModuleList(\n",
      "    (0-4): 5 x ResidualBlock(\n",
      "      (conv1): Conv1d(32, 32, kernel_size=(5,), stride=(1,), padding=same)\n",
      "      (conv2): Conv1d(32, 32, kernel_size=(5,), stride=(1,), padding=same)\n",
      "      (activation): ReLU()\n",
      "      (max_pooling): MaxPool1d(kernel_size=5, stride=2, padding=2, dilation=1, ceil_mode=False)\n",
      "    )\n",
      "  )\n",
      "  (flatten): Flatten(start_dim=1, end_dim=-1)\n",
      ")\n"
     ]
    }
   ],
   "source": [
    "import torch\n",
    "import torch.nn as nn\n",
    "\n",
    "class ResidualBlock(nn.Module):\n",
    "    def __init__(self, filters, kernel_size):\n",
    "        super(ResidualBlock, self).__init__()\n",
    "        self.conv1 = nn.Conv1d(filters, filters, kernel_size, padding='same')\n",
    "        self.conv2 = nn.Conv1d(filters, filters, kernel_size, padding='same')\n",
    "        self.activation = nn.ReLU()\n",
    "        self.max_pooling = nn.MaxPool1d(kernel_size=5, stride=2, padding=2)\n",
    "    \n",
    "    def forward(self, x):\n",
    "        residual = x\n",
    "        out = self.conv1(x)\n",
    "        out = self.activation(out)\n",
    "        out = self.conv2(out)\n",
    "        out += residual  # Residual connection\n",
    "        out = self.activation(out)\n",
    "        out = self.max_pooling(out)\n",
    "        return out\n",
    "\n",
    "class ConvResNet(nn.Module):\n",
    "    def __init__(self, input_shape, num_classes):\n",
    "        super(ConvResNet, self).__init__()\n",
    "        self.conv1 = nn.Conv1d(input_shape[0], 32, 5, padding='same')\n",
    "        self.activation = nn.ReLU()\n",
    "        self.residual_blocks = nn.ModuleList([ResidualBlock(32, 5) for _ in range(5)])\n",
    "        self.flatten = nn.Flatten()\n",
    "\n",
    "    def forward(self, x):\n",
    "        x = self.conv1(x)\n",
    "        for block in self.residual_blocks:\n",
    "            x = block(x)\n",
    "        x = self.flatten(x)\n",
    "        return x\n",
    "\n",
    "# Define input shape (assuming each beat is a 1D signal with a certain length)\n",
    "input_shape = (1, 187) \n",
    "num_classes = 5 \n",
    "model1 = ConvResNet(input_shape, num_classes)\n",
    "\n",
    "# Print model summary\n",
    "print(model1)\n"
   ]
  },
  {
   "cell_type": "code",
   "execution_count": 8,
   "id": "5b47e365-c7ba-490b-9532-f4dbb556bb8d",
   "metadata": {},
   "outputs": [
    {
     "name": "stdout",
     "output_type": "stream",
     "text": [
      "ModifiedModel(\n",
      "  (existing_model): ConvResNet(\n",
      "    (conv1): Conv1d(1, 32, kernel_size=(5,), stride=(1,), padding=same)\n",
      "    (activation): ReLU()\n",
      "    (residual_blocks): ModuleList(\n",
      "      (0-4): 5 x ResidualBlock(\n",
      "        (conv1): Conv1d(32, 32, kernel_size=(5,), stride=(1,), padding=same)\n",
      "        (conv2): Conv1d(32, 32, kernel_size=(5,), stride=(1,), padding=same)\n",
      "        (activation): ReLU()\n",
      "        (max_pooling): MaxPool1d(kernel_size=5, stride=2, padding=2, dilation=1, ceil_mode=False)\n",
      "      )\n",
      "    )\n",
      "    (flatten): Flatten(start_dim=1, end_dim=-1)\n",
      "  )\n",
      "  (new_layers): Sequential(\n",
      "    (0): Linear(in_features=192, out_features=32, bias=True)\n",
      "    (1): ReLU()\n",
      "    (2): Linear(in_features=32, out_features=1, bias=True)\n",
      "  )\n",
      ")\n"
     ]
    }
   ],
   "source": [
    "# Load the saved model weights\n",
    "model1.load_state_dict(torch.load('pretrained_weights.pth'), strict=False)\n",
    "\n",
    "\n",
    "# Assuming model1 is your pretrained model\n",
    "pretrained_model = model1\n",
    "\n",
    "# Define new layers to add for fine-tuning\n",
    "num_fine_tune_features = 192\n",
    "fine_tune_layers = nn.Sequential(\n",
    "    nn.Linear(num_fine_tune_features, 32),\n",
    "    nn.ReLU(),\n",
    "    nn.Linear(32, 1),\n",
    ")\n",
    "\n",
    "class ModifiedModel(nn.Module):\n",
    "    def __init__(self, existing_model, new_layers):\n",
    "        super(ModifiedModel, self).__init__()\n",
    "        self.existing_model = existing_model\n",
    "        self.new_layers = new_layers\n",
    "\n",
    "    def forward(self, x):\n",
    "        x = self.existing_model(x)\n",
    "        x = self.new_layers(x)\n",
    "        return x\n",
    "model = ModifiedModel(pretrained_model, fine_tune_layers)\n",
    "print(model)"
   ]
  },
  {
   "cell_type": "code",
   "execution_count": 9,
   "id": "950b5330-804a-48d9-905c-43c5c5ba03b0",
   "metadata": {},
   "outputs": [
    {
     "name": "stderr",
     "output_type": "stream",
     "text": [
      "Epoch 1/50: 100%|██████████| 8/8 [00:05<00:00,  1.55batch/s, acc=59.3, loss=0.91] \n"
     ]
    },
    {
     "name": "stdout",
     "output_type": "stream",
     "text": [
      "Epoch [1/50], Train Loss: 1.0580, Val Loss: 0.5933, Val Acc: 68.13%, min f1: 0.6527\n"
     ]
    },
    {
     "name": "stderr",
     "output_type": "stream",
     "text": [
      "Epoch 2/50: 100%|██████████| 8/8 [00:04<00:00,  1.88batch/s, acc=72.2, loss=0.551] \n"
     ]
    },
    {
     "name": "stdout",
     "output_type": "stream",
     "text": [
      "Epoch [2/50], Train Loss: 0.6780, Val Loss: 0.5081, Val Acc: 74.75%, min f1: 0.7158\n"
     ]
    },
    {
     "name": "stderr",
     "output_type": "stream",
     "text": [
      "Epoch 3/50: 100%|██████████| 8/8 [00:04<00:00,  1.86batch/s, acc=77, loss=0.488]   \n"
     ]
    },
    {
     "name": "stdout",
     "output_type": "stream",
     "text": [
      "Epoch [3/50], Train Loss: 0.6069, Val Loss: 0.4742, Val Acc: 76.87%, min f1: 0.7378\n"
     ]
    },
    {
     "name": "stderr",
     "output_type": "stream",
     "text": [
      "Epoch 4/50: 100%|██████████| 8/8 [00:04<00:00,  1.89batch/s, acc=79.6, loss=0.447] \n"
     ]
    },
    {
     "name": "stdout",
     "output_type": "stream",
     "text": [
      "Epoch [4/50], Train Loss: 0.5584, Val Loss: 0.4470, Val Acc: 78.77%, min f1: 0.7606\n"
     ]
    },
    {
     "name": "stderr",
     "output_type": "stream",
     "text": [
      "Epoch 5/50: 100%|██████████| 8/8 [00:04<00:00,  1.88batch/s, acc=81.8, loss=0.414] \n"
     ]
    },
    {
     "name": "stdout",
     "output_type": "stream",
     "text": [
      "Epoch [5/50], Train Loss: 0.5161, Val Loss: 0.4076, Val Acc: 82.06%, min f1: 0.7818\n"
     ]
    },
    {
     "name": "stderr",
     "output_type": "stream",
     "text": [
      "Epoch 6/50: 100%|██████████| 8/8 [00:04<00:00,  1.96batch/s, acc=83.1, loss=0.391] \n"
     ]
    },
    {
     "name": "stdout",
     "output_type": "stream",
     "text": [
      "Epoch [6/50], Train Loss: 0.4888, Val Loss: 0.3901, Val Acc: 82.94%, min f1: 0.7937\n"
     ]
    },
    {
     "name": "stderr",
     "output_type": "stream",
     "text": [
      "Epoch 7/50: 100%|██████████| 8/8 [00:04<00:00,  1.90batch/s, acc=83.9, loss=0.374] \n"
     ]
    },
    {
     "name": "stdout",
     "output_type": "stream",
     "text": [
      "Epoch [7/50], Train Loss: 0.4673, Val Loss: 0.3746, Val Acc: 83.55%, min f1: 0.8021\n"
     ]
    },
    {
     "name": "stderr",
     "output_type": "stream",
     "text": [
      "Epoch 8/50: 100%|██████████| 8/8 [00:04<00:00,  1.89batch/s, acc=84.5, loss=0.361] \n"
     ]
    },
    {
     "name": "stdout",
     "output_type": "stream",
     "text": [
      "Epoch [8/50], Train Loss: 0.4565, Val Loss: 0.3820, Val Acc: 83.05%, min f1: 0.8029\n"
     ]
    },
    {
     "name": "stderr",
     "output_type": "stream",
     "text": [
      "Epoch 9/50: 100%|██████████| 8/8 [00:04<00:00,  1.90batch/s, acc=84.9, loss=0.355] \n"
     ]
    },
    {
     "name": "stdout",
     "output_type": "stream",
     "text": [
      "Epoch [9/50], Train Loss: 0.4435, Val Loss: 0.3554, Val Acc: 84.25%, min f1: 0.8067\n"
     ]
    },
    {
     "name": "stderr",
     "output_type": "stream",
     "text": [
      "Epoch 10/50: 100%|██████████| 8/8 [00:04<00:00,  1.95batch/s, acc=85.2, loss=0.349] \n"
     ]
    },
    {
     "name": "stdout",
     "output_type": "stream",
     "text": [
      "Epoch [10/50], Train Loss: 0.4372, Val Loss: 0.3531, Val Acc: 84.36%, min f1: 0.8095\n"
     ]
    },
    {
     "name": "stderr",
     "output_type": "stream",
     "text": [
      "Epoch 11/50: 100%|██████████| 8/8 [00:04<00:00,  1.77batch/s, acc=85.3, loss=0.344] \n"
     ]
    },
    {
     "name": "stdout",
     "output_type": "stream",
     "text": [
      "Epoch [11/50], Train Loss: 0.4319, Val Loss: 0.3514, Val Acc: 84.45%, min f1: 0.8120\n"
     ]
    },
    {
     "name": "stderr",
     "output_type": "stream",
     "text": [
      "Epoch 12/50: 100%|██████████| 8/8 [00:04<00:00,  1.76batch/s, acc=85.6, loss=0.339] \n"
     ]
    },
    {
     "name": "stdout",
     "output_type": "stream",
     "text": [
      "Epoch [12/50], Train Loss: 0.4275, Val Loss: 0.3543, Val Acc: 84.35%, min f1: 0.8142\n"
     ]
    },
    {
     "name": "stderr",
     "output_type": "stream",
     "text": [
      "Epoch 13/50: 100%|██████████| 8/8 [00:04<00:00,  1.78batch/s, acc=85.7, loss=0.336] \n"
     ]
    },
    {
     "name": "stdout",
     "output_type": "stream",
     "text": [
      "Epoch [13/50], Train Loss: 0.4224, Val Loss: 0.3457, Val Acc: 84.63%, min f1: 0.8136\n"
     ]
    },
    {
     "name": "stderr",
     "output_type": "stream",
     "text": [
      "Epoch 14/50: 100%|██████████| 8/8 [00:04<00:00,  1.84batch/s, acc=85.9, loss=0.333] \n"
     ]
    },
    {
     "name": "stdout",
     "output_type": "stream",
     "text": [
      "Epoch [14/50], Train Loss: 0.4183, Val Loss: 0.3399, Val Acc: 84.92%, min f1: 0.8141\n"
     ]
    },
    {
     "name": "stderr",
     "output_type": "stream",
     "text": [
      "Epoch 15/50: 100%|██████████| 8/8 [00:04<00:00,  1.77batch/s, acc=86, loss=0.331]   \n"
     ]
    },
    {
     "name": "stdout",
     "output_type": "stream",
     "text": [
      "Epoch [15/50], Train Loss: 0.4165, Val Loss: 0.3419, Val Acc: 84.85%, min f1: 0.8167\n"
     ]
    },
    {
     "name": "stderr",
     "output_type": "stream",
     "text": [
      "Epoch 16/50: 100%|██████████| 8/8 [00:04<00:00,  1.77batch/s, acc=85.9, loss=0.331] \n"
     ]
    },
    {
     "name": "stdout",
     "output_type": "stream",
     "text": [
      "Epoch [16/50], Train Loss: 0.4181, Val Loss: 0.3482, Val Acc: 84.48%, min f1: 0.8165\n"
     ]
    },
    {
     "name": "stderr",
     "output_type": "stream",
     "text": [
      "Epoch 17/50: 100%|██████████| 8/8 [00:04<00:00,  1.78batch/s, acc=86, loss=0.328]  \n"
     ]
    },
    {
     "name": "stdout",
     "output_type": "stream",
     "text": [
      "Epoch [17/50], Train Loss: 0.4189, Val Loss: 0.3619, Val Acc: 83.93%, min f1: 0.8146\n"
     ]
    },
    {
     "name": "stderr",
     "output_type": "stream",
     "text": [
      "Epoch 18/50: 100%|██████████| 8/8 [00:04<00:00,  1.84batch/s, acc=86.1, loss=0.325]\n"
     ]
    },
    {
     "name": "stdout",
     "output_type": "stream",
     "text": [
      "Epoch [18/50], Train Loss: 0.4124, Val Loss: 0.3480, Val Acc: 84.49%, min f1: 0.8178\n"
     ]
    },
    {
     "name": "stderr",
     "output_type": "stream",
     "text": [
      "Epoch 19/50: 100%|██████████| 8/8 [00:04<00:00,  1.78batch/s, acc=86.4, loss=0.321] \n"
     ]
    },
    {
     "name": "stdout",
     "output_type": "stream",
     "text": [
      "Epoch [19/50], Train Loss: 0.4055, Val Loss: 0.3367, Val Acc: 85.16%, min f1: 0.8208\n"
     ]
    },
    {
     "name": "stderr",
     "output_type": "stream",
     "text": [
      "Epoch 20/50: 100%|██████████| 8/8 [00:04<00:00,  1.78batch/s, acc=86.5, loss=0.318] \n"
     ]
    },
    {
     "name": "stdout",
     "output_type": "stream",
     "text": [
      "Epoch [20/50], Train Loss: 0.4035, Val Loss: 0.3400, Val Acc: 84.87%, min f1: 0.8198\n"
     ]
    },
    {
     "name": "stderr",
     "output_type": "stream",
     "text": [
      "Epoch 21/50: 100%|██████████| 8/8 [00:04<00:00,  1.90batch/s, acc=86.5, loss=0.318] \n"
     ]
    },
    {
     "name": "stdout",
     "output_type": "stream",
     "text": [
      "Epoch [21/50], Train Loss: 0.4018, Val Loss: 0.3344, Val Acc: 85.28%, min f1: 0.8223\n"
     ]
    },
    {
     "name": "stderr",
     "output_type": "stream",
     "text": [
      "Epoch 22/50: 100%|██████████| 8/8 [00:04<00:00,  1.98batch/s, acc=86.6, loss=0.317] \n"
     ]
    },
    {
     "name": "stdout",
     "output_type": "stream",
     "text": [
      "Epoch [22/50], Train Loss: 0.3996, Val Loss: 0.3305, Val Acc: 85.49%, min f1: 0.8234\n"
     ]
    },
    {
     "name": "stderr",
     "output_type": "stream",
     "text": [
      "Epoch 23/50: 100%|██████████| 8/8 [00:04<00:00,  1.90batch/s, acc=86.6, loss=0.315] \n"
     ]
    },
    {
     "name": "stdout",
     "output_type": "stream",
     "text": [
      "Epoch [23/50], Train Loss: 0.4022, Val Loss: 0.3505, Val Acc: 84.43%, min f1: 0.8189\n"
     ]
    },
    {
     "name": "stderr",
     "output_type": "stream",
     "text": [
      "Epoch 24/50: 100%|██████████| 8/8 [00:04<00:00,  1.88batch/s, acc=86.6, loss=0.315] \n"
     ]
    },
    {
     "name": "stdout",
     "output_type": "stream",
     "text": [
      "Epoch [24/50], Train Loss: 0.3965, Val Loss: 0.3260, Val Acc: 85.67%, min f1: 0.8227\n"
     ]
    },
    {
     "name": "stderr",
     "output_type": "stream",
     "text": [
      "Epoch 25/50: 100%|██████████| 8/8 [00:04<00:00,  1.88batch/s, acc=86.7, loss=0.313] \n"
     ]
    },
    {
     "name": "stdout",
     "output_type": "stream",
     "text": [
      "Epoch [25/50], Train Loss: 0.4007, Val Loss: 0.3516, Val Acc: 84.34%, min f1: 0.8189\n"
     ]
    },
    {
     "name": "stderr",
     "output_type": "stream",
     "text": [
      "Epoch 26/50: 100%|██████████| 8/8 [00:04<00:00,  1.97batch/s, acc=86.6, loss=0.313] \n"
     ]
    },
    {
     "name": "stdout",
     "output_type": "stream",
     "text": [
      "Epoch [26/50], Train Loss: 0.3943, Val Loss: 0.3241, Val Acc: 85.67%, min f1: 0.8170\n"
     ]
    },
    {
     "name": "stderr",
     "output_type": "stream",
     "text": [
      "Epoch 27/50: 100%|██████████| 8/8 [00:04<00:00,  1.91batch/s, acc=86.6, loss=0.314] \n"
     ]
    },
    {
     "name": "stdout",
     "output_type": "stream",
     "text": [
      "Epoch [27/50], Train Loss: 0.4006, Val Loss: 0.3447, Val Acc: 84.69%, min f1: 0.8212\n"
     ]
    },
    {
     "name": "stderr",
     "output_type": "stream",
     "text": [
      "Epoch 28/50: 100%|██████████| 8/8 [00:04<00:00,  1.89batch/s, acc=86.8, loss=0.311] \n"
     ]
    },
    {
     "name": "stdout",
     "output_type": "stream",
     "text": [
      "Epoch [28/50], Train Loss: 0.3945, Val Loss: 0.3352, Val Acc: 85.03%, min f1: 0.8228\n"
     ]
    },
    {
     "name": "stderr",
     "output_type": "stream",
     "text": [
      "Epoch 29/50: 100%|██████████| 8/8 [00:04<00:00,  1.90batch/s, acc=86.9, loss=0.309] \n"
     ]
    },
    {
     "name": "stdout",
     "output_type": "stream",
     "text": [
      "Epoch [29/50], Train Loss: 0.3893, Val Loss: 0.3223, Val Acc: 85.85%, min f1: 0.8253\n"
     ]
    },
    {
     "name": "stderr",
     "output_type": "stream",
     "text": [
      "Epoch 30/50: 100%|██████████| 8/8 [00:04<00:00,  1.97batch/s, acc=87, loss=0.307]   \n"
     ]
    },
    {
     "name": "stdout",
     "output_type": "stream",
     "text": [
      "Epoch [30/50], Train Loss: 0.3901, Val Loss: 0.3340, Val Acc: 85.13%, min f1: 0.8237\n"
     ]
    },
    {
     "name": "stderr",
     "output_type": "stream",
     "text": [
      "Epoch 31/50: 100%|██████████| 8/8 [00:04<00:00,  1.90batch/s, acc=87, loss=0.305]   \n"
     ]
    },
    {
     "name": "stdout",
     "output_type": "stream",
     "text": [
      "Epoch [31/50], Train Loss: 0.3856, Val Loss: 0.3212, Val Acc: 85.93%, min f1: 0.8263\n"
     ]
    },
    {
     "name": "stderr",
     "output_type": "stream",
     "text": [
      "Epoch 32/50: 100%|██████████| 8/8 [00:04<00:00,  1.90batch/s, acc=87, loss=0.306]   \n"
     ]
    },
    {
     "name": "stdout",
     "output_type": "stream",
     "text": [
      "Epoch [32/50], Train Loss: 0.3887, Val Loss: 0.3304, Val Acc: 85.28%, min f1: 0.8247\n"
     ]
    },
    {
     "name": "stderr",
     "output_type": "stream",
     "text": [
      "Epoch 33/50: 100%|██████████| 8/8 [00:04<00:00,  1.88batch/s, acc=87, loss=0.306]   \n"
     ]
    },
    {
     "name": "stdout",
     "output_type": "stream",
     "text": [
      "Epoch [33/50], Train Loss: 0.3897, Val Loss: 0.3355, Val Acc: 85.07%, min f1: 0.8236\n"
     ]
    },
    {
     "name": "stderr",
     "output_type": "stream",
     "text": [
      "Epoch 34/50: 100%|██████████| 8/8 [00:04<00:00,  1.89batch/s, acc=87.1, loss=0.303] \n"
     ]
    },
    {
     "name": "stdout",
     "output_type": "stream",
     "text": [
      "Epoch [34/50], Train Loss: 0.3841, Val Loss: 0.3254, Val Acc: 85.57%, min f1: 0.8262\n"
     ]
    },
    {
     "name": "stderr",
     "output_type": "stream",
     "text": [
      "Epoch 35/50: 100%|██████████| 8/8 [00:04<00:00,  1.97batch/s, acc=87.2, loss=0.302] \n"
     ]
    },
    {
     "name": "stdout",
     "output_type": "stream",
     "text": [
      "Epoch [35/50], Train Loss: 0.3820, Val Loss: 0.3211, Val Acc: 85.84%, min f1: 0.8272\n"
     ]
    },
    {
     "name": "stderr",
     "output_type": "stream",
     "text": [
      "Epoch 36/50: 100%|██████████| 8/8 [00:04<00:00,  1.85batch/s, acc=87.2, loss=0.301] \n"
     ]
    },
    {
     "name": "stdout",
     "output_type": "stream",
     "text": [
      "Epoch [36/50], Train Loss: 0.3810, Val Loss: 0.3214, Val Acc: 85.79%, min f1: 0.8269\n"
     ]
    },
    {
     "name": "stderr",
     "output_type": "stream",
     "text": [
      "Epoch 37/50: 100%|██████████| 8/8 [00:04<00:00,  1.89batch/s, acc=87.2, loss=0.3]   \n"
     ]
    },
    {
     "name": "stdout",
     "output_type": "stream",
     "text": [
      "Epoch [37/50], Train Loss: 0.3806, Val Loss: 0.3216, Val Acc: 85.75%, min f1: 0.8273\n"
     ]
    },
    {
     "name": "stderr",
     "output_type": "stream",
     "text": [
      "Epoch 38/50: 100%|██████████| 8/8 [00:04<00:00,  1.87batch/s, acc=87.3, loss=0.299] \n"
     ]
    },
    {
     "name": "stdout",
     "output_type": "stream",
     "text": [
      "Epoch [38/50], Train Loss: 0.3823, Val Loss: 0.3317, Val Acc: 85.33%, min f1: 0.8259\n"
     ]
    },
    {
     "name": "stderr",
     "output_type": "stream",
     "text": [
      "Epoch 39/50: 100%|██████████| 8/8 [00:04<00:00,  1.90batch/s, acc=87.3, loss=0.298] \n"
     ]
    },
    {
     "name": "stdout",
     "output_type": "stream",
     "text": [
      "Epoch [39/50], Train Loss: 0.3784, Val Loss: 0.3214, Val Acc: 85.76%, min f1: 0.8275\n"
     ]
    },
    {
     "name": "stderr",
     "output_type": "stream",
     "text": [
      "Epoch 40/50: 100%|██████████| 8/8 [00:04<00:00,  1.88batch/s, acc=87.4, loss=0.297] \n"
     ]
    },
    {
     "name": "stdout",
     "output_type": "stream",
     "text": [
      "Epoch [40/50], Train Loss: 0.3763, Val Loss: 0.3184, Val Acc: 85.92%, min f1: 0.8280\n"
     ]
    },
    {
     "name": "stderr",
     "output_type": "stream",
     "text": [
      "Epoch 41/50: 100%|██████████| 8/8 [00:04<00:00,  1.91batch/s, acc=87.3, loss=0.298] \n"
     ]
    },
    {
     "name": "stdout",
     "output_type": "stream",
     "text": [
      "Epoch [41/50], Train Loss: 0.3770, Val Loss: 0.3178, Val Acc: 85.90%, min f1: 0.8279\n"
     ]
    },
    {
     "name": "stderr",
     "output_type": "stream",
     "text": [
      "Epoch 42/50: 100%|██████████| 8/8 [00:04<00:00,  1.89batch/s, acc=87.4, loss=0.296] \n"
     ]
    },
    {
     "name": "stdout",
     "output_type": "stream",
     "text": [
      "Epoch [42/50], Train Loss: 0.3777, Val Loss: 0.3287, Val Acc: 85.39%, min f1: 0.8264\n"
     ]
    },
    {
     "name": "stderr",
     "output_type": "stream",
     "text": [
      "Epoch 43/50: 100%|██████████| 8/8 [00:04<00:00,  1.98batch/s, acc=87.4, loss=0.296] \n"
     ]
    },
    {
     "name": "stdout",
     "output_type": "stream",
     "text": [
      "Epoch [43/50], Train Loss: 0.3774, Val Loss: 0.3260, Val Acc: 85.52%, min f1: 0.8271\n"
     ]
    },
    {
     "name": "stderr",
     "output_type": "stream",
     "text": [
      "Epoch 44/50: 100%|██████████| 8/8 [00:04<00:00,  1.89batch/s, acc=87.3, loss=0.298] \n"
     ]
    },
    {
     "name": "stdout",
     "output_type": "stream",
     "text": [
      "Epoch [44/50], Train Loss: 0.3761, Val Loss: 0.3134, Val Acc: 86.19%, min f1: 0.8249\n"
     ]
    },
    {
     "name": "stderr",
     "output_type": "stream",
     "text": [
      "Epoch 45/50: 100%|██████████| 8/8 [00:04<00:00,  1.89batch/s, acc=87.2, loss=0.301] \n"
     ]
    },
    {
     "name": "stdout",
     "output_type": "stream",
     "text": [
      "Epoch [45/50], Train Loss: 0.3844, Val Loss: 0.3338, Val Acc: 85.17%, min f1: 0.8261\n"
     ]
    },
    {
     "name": "stderr",
     "output_type": "stream",
     "text": [
      "Epoch 46/50: 100%|██████████| 8/8 [00:04<00:00,  1.80batch/s, acc=87.4, loss=0.296] \n"
     ]
    },
    {
     "name": "stdout",
     "output_type": "stream",
     "text": [
      "Epoch [46/50], Train Loss: 0.3737, Val Loss: 0.3120, Val Acc: 86.15%, min f1: 0.8264\n"
     ]
    },
    {
     "name": "stderr",
     "output_type": "stream",
     "text": [
      "Epoch 47/50: 100%|██████████| 8/8 [00:04<00:00,  1.84batch/s, acc=87.4, loss=0.296] \n"
     ]
    },
    {
     "name": "stdout",
     "output_type": "stream",
     "text": [
      "Epoch [47/50], Train Loss: 0.3754, Val Loss: 0.3195, Val Acc: 85.82%, min f1: 0.8293\n"
     ]
    },
    {
     "name": "stderr",
     "output_type": "stream",
     "text": [
      "Epoch 48/50: 100%|██████████| 8/8 [00:04<00:00,  1.77batch/s, acc=87.5, loss=0.293] \n"
     ]
    },
    {
     "name": "stdout",
     "output_type": "stream",
     "text": [
      "Epoch [48/50], Train Loss: 0.3762, Val Loss: 0.3327, Val Acc: 85.25%, min f1: 0.8271\n"
     ]
    },
    {
     "name": "stderr",
     "output_type": "stream",
     "text": [
      "Epoch 49/50: 100%|██████████| 8/8 [00:04<00:00,  1.77batch/s, acc=87.6, loss=0.292]\n"
     ]
    },
    {
     "name": "stdout",
     "output_type": "stream",
     "text": [
      "Epoch [49/50], Train Loss: 0.3698, Val Loss: 0.3120, Val Acc: 86.07%, min f1: 0.8270\n"
     ]
    },
    {
     "name": "stderr",
     "output_type": "stream",
     "text": [
      "Epoch 50/50: 100%|██████████| 8/8 [00:04<00:00,  1.77batch/s, acc=87.6, loss=0.29]  \n"
     ]
    },
    {
     "name": "stdout",
     "output_type": "stream",
     "text": [
      "Epoch [50/50], Train Loss: 0.3703, Val Loss: 0.3194, Val Acc: 85.85%, min f1: 0.8301\n"
     ]
    },
    {
     "data": {
      "text/plain": [
       "<All keys matched successfully>"
      ]
     },
     "execution_count": 9,
     "metadata": {},
     "output_type": "execute_result"
    }
   ],
   "source": [
    "import torch.optim as optim\n",
    "from torch.utils.data import DataLoader, TensorDataset\n",
    "from tqdm import tqdm\n",
    "import torch.nn.functional as F\n",
    "from torch.optim.lr_scheduler import ExponentialLR\n",
    "from sklearn.metrics import accuracy_score, precision_score, recall_score, f1_score, confusion_matrix\n",
    "\n",
    "# Convert data to PyTorch tensors\n",
    "train_data_tensor = torch.tensor(X_train_reshaped, dtype=torch.float32)\n",
    "train_labels_tensor = torch.tensor(y_train_reshaped, dtype=torch.float32)\n",
    "val_data_tensor = torch.tensor(X_val_reshaped, dtype=torch.float32)\n",
    "val_labels_tensor = torch.tensor(y_val_reshaped, dtype=torch.float32)\n",
    "\n",
    "# Move data to GPU if available\n",
    "device = torch.device(\"cuda\" if torch.cuda.is_available() else \"cpu\")\n",
    "train_data_tensor = train_data_tensor.to(device)\n",
    "train_labels_tensor = train_labels_tensor.to(device)\n",
    "val_data_tensor = val_data_tensor.to(device)\n",
    "val_labels_tensor = val_labels_tensor.to(device)\n",
    "\n",
    "# Define dataset\n",
    "train_dataset = TensorDataset(train_data_tensor, train_labels_tensor)\n",
    "val_dataset = TensorDataset(val_data_tensor, val_labels_tensor)\n",
    "train_loader = DataLoader(train_dataset, batch_size, shuffle=True)\n",
    "val_loader = DataLoader(val_dataset, batch_size)\n",
    "\n",
    "# Move model to GPU\n",
    "model = model.to(device)\n",
    "\n",
    "# Define loss function and optimizer\n",
    "criterion = nn.BCEWithLogitsLoss() \n",
    "optimizer = optim.Adam(model.parameters(), lr=0.001, betas=(0.9, 0.999))  # Adam optimizer with specified betas\n",
    "\n",
    "# Define learning rate scheduler\n",
    "scheduler = ExponentialLR(optimizer, gamma=0.99)  # Learning rate decay with a decay factor of 0.99\n",
    "\n",
    "# Train the model\n",
    "for epoch in range(MAX_EPOCHS):\n",
    "    model.train()  # Set model to training mode\n",
    "    train_loss = 0.0\n",
    "    correct = 0\n",
    "    total = 0\n",
    "    pbar = tqdm(enumerate(train_loader), total=len(train_loader), desc=f\"Epoch {epoch + 1}/{MAX_EPOCHS}\", unit=\"batch\")\n",
    "    for i, data in pbar:\n",
    "        inputs, labels = data\n",
    "        inputs, labels = inputs.to(device), labels.to(device)\n",
    "        optimizer.zero_grad()  # Zero the gradients\n",
    "        outputs = model(inputs)  # Forward pass\n",
    "        labels = torch.squeeze(labels, dim=1)\n",
    "        loss = criterion(outputs, labels)  # Compute loss\n",
    "        loss.backward()  # Backward pass\n",
    "        optimizer.step()  # Update weights\n",
    "        train_loss += loss.item()\n",
    "        # Apply sigmoid function to logits\n",
    "        probabilities = torch.sigmoid(outputs)\n",
    "        predicted = (probabilities > 0.5).cpu().numpy().astype(int)\n",
    "        total += labels.size(0)\n",
    "        correct += (predicted == labels.cpu().numpy()).sum()\n",
    "        pbar.set_postfix(loss=train_loss / len(train_loader), acc=(correct / total) * 100)\n",
    "\n",
    "    # Validation\n",
    "    model.eval()  # Set model to evaluation mode\n",
    "    val_loss = 0.0\n",
    "    correct = 0\n",
    "    total = 0\n",
    "    true_labels = []\n",
    "    predicted_labels = []\n",
    "    with torch.no_grad():\n",
    "        for inputs, labels in val_loader:\n",
    "            inputs, labels = inputs.to(device), labels.to(device)\n",
    "            true_labels.extend(labels.cpu().numpy())\n",
    "            outputs = model(inputs)  # Forward pass\n",
    "            labels = torch.squeeze(labels, dim=1)\n",
    "            loss = criterion(outputs , labels)\n",
    "            val_loss += loss.item()\n",
    "            train_loss += loss.item()\n",
    "            # Apply sigmoid function to logits\n",
    "            probabilities = torch.sigmoid(outputs)\n",
    "            predicted = (probabilities > 0.5).cpu().numpy().astype(int)\n",
    "            total += labels.size(0)\n",
    "            correct += (predicted == labels.cpu().numpy()).sum()\n",
    "            predicted_labels.extend(predicted)\n",
    "        avg_val_loss = val_loss / len(val_loader)\n",
    "        f1 = f1_score(np.concatenate(true_labels),np.concatenate(predicted_labels) ,average='binary')\n",
    "    if f1 > best_f1:\n",
    "        best_f1 = f1\n",
    "        best_epoch = epoch\n",
    "        patience_counter = patience\n",
    "        torch.save(model.state_dict(), 'best_model_'+label+'.pth')  # Save the model parameters\n",
    "    else:\n",
    "        patience_counter -= 1\n",
    "        if patience_counter == 0:\n",
    "            print(f\"Validation loss did not improve for {patience} epochs. Early stopping.\")\n",
    "            break\n",
    "\n",
    "    # Learning rate scheduling\n",
    "    scheduler.step()\n",
    "\n",
    "    # Print progress\n",
    "    print(f\"Epoch [{epoch+1}/{MAX_EPOCHS}], Train Loss: {train_loss / len(train_loader):.4f}, Val Loss: {avg_val_loss:.4f}, Val Acc: {(correct/total)*100:.2f}%, min f1: {f1:.4f}\")\n",
    "\n",
    "# Load the best model parameters\n",
    "model.load_state_dict(torch.load('best_model_'+label+'.pth'))\n",
    "\n"
   ]
  },
  {
   "cell_type": "code",
   "execution_count": 11,
   "id": "e21273c3-a419-4b8f-8dea-652419294fb2",
   "metadata": {},
   "outputs": [
    {
     "name": "stdout",
     "output_type": "stream",
     "text": [
      "Accuracy: 0.8619\n",
      "Precision: 0.7828\n",
      "Recall: 0.8919\n",
      "F1 Score: 0.8338\n"
     ]
    },
    {
     "data": {
      "image/png": "[encoded data removed]",
      "text/plain": [
       "<Figure size 800x600 with 2 Axes>"
      ]
     },
     "metadata": {},
     "output_type": "display_data"
    }
   ],
   "source": [
    "import seaborn as sns\n",
    "import matplotlib.pyplot as plt\n",
    "\n",
    "# Convert data to PyTorch tensors\n",
    "test_data_tensor = torch.tensor(X_test_reshaped, dtype=torch.float32)\n",
    "test_labels_tensor = torch.tensor(y_test, dtype=torch.long)\n",
    "\n",
    "model = model.to(device)\n",
    "\n",
    "# Define dataset and DataLoader for test data\n",
    "test_dataset = TensorDataset(test_data_tensor, test_labels_tensor)\n",
    "test_loader = DataLoader(test_dataset, batch_size=1024)\n",
    "\n",
    "# Load the best model saved during training\n",
    "model.load_state_dict(torch.load('best_model_'+label+'.pth'))\n",
    "model.eval()  # Set model to evaluation mode\n",
    "\n",
    "# Initialize lists to store true labels and predicted labels\n",
    "true_labels = []\n",
    "predicted_labels = []\n",
    "\n",
    "# Iterate through the test DataLoader\n",
    "with torch.no_grad():\n",
    "    for inputs, labels in test_loader:\n",
    "        inputs, labels = inputs.to(device), labels.to(device)\n",
    "        outputs = model(inputs)\n",
    "        # Apply sigmoid function to logits\n",
    "        probabilities = torch.sigmoid(outputs)\n",
    "        true_labels.extend(labels.cpu().numpy())\n",
    "        predicted_labels.extend(probabilities.cpu().numpy())\n",
    "\n",
    "# Calculate evaluation metric\n",
    "predicted_labels = np.array(predicted_labels)\n",
    "predicted_labels =(predicted_labels > 0.5).astype(int)\n",
    "accuracy = accuracy_score(true_labels, predicted_labels)\n",
    "precision = precision_score(true_labels, predicted_labels, average='binary')\n",
    "recall = recall_score(true_labels, predicted_labels, average='binary')\n",
    "f1 = f1_score(true_labels, predicted_labels,average='binary')\n",
    "\n",
    "print(f\"Accuracy: {accuracy:.4f}\")\n",
    "print(f\"Precision: {precision:.4f}\")\n",
    "print(f\"Recall: {recall:.4f}\")\n",
    "print(f\"F1 Score: {f1:.4f}\")\n",
    "\n",
    "# Plot confusion matrix\n",
    "classes =  ['False', 'True']\n",
    "classes_y = []\n",
    "class_counts = np.bincount(true_labels)\n",
    "for i, count in enumerate(class_counts):\n",
    "    classes_y.append(classes[i] + '\\n(' + str(count) + ')')\n",
    "cm = confusion_matrix(true_labels,predicted_labels, normalize='true')\n",
    "plt.figure(figsize=(8, 6))\n",
    "sns.heatmap(cm, annot=True, fmt='.2f', cmap='Blues', xticklabels=classes, yticklabels=classes_y)\n",
    "\n",
    "\n",
    "plt.xlabel('Predicted Labels')\n",
    "plt.ylabel('True Labels')\n",
    "plt.title('Confusion Matrix')\n",
    "plt.show()\n"
   ]
  }
 ],
 "metadata": {
  "kernelspec": {
   "display_name": "Python 3 (ipykernel)",
   "language": "python",
   "name": "python3"
  },
  "language_info": {
   "codemirror_mode": {
    "name": "ipython",
    "version": 3
   },
   "file_extension": ".py",
   "mimetype": "text/x-python",
   "name": "python",
   "nbconvert_exporter": "python",
   "pygments_lexer": "ipython3",
   "version": "3.10.10"
  }
 },
 "nbformat": 4,
 "nbformat_minor": 5
}
